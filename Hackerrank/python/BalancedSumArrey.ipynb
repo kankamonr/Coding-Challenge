{
 "cells": [
  {
   "cell_type": "code",
   "execution_count": 38,
   "metadata": {},
   "outputs": [
    {
     "name": "stdout",
     "output_type": "stream",
     "text": [
      "[3, 3, 2, 1]\n",
      "[0, 1, 3, 6]\n",
      "[8, 3, 0, 6]\n"
     ]
    },
    {
     "data": {
      "text/plain": [
       "3"
      ]
     },
     "execution_count": 38,
     "metadata": {},
     "output_type": "execute_result"
    }
   ],
   "source": [
    "#Balanced sum arrey\n",
    "def balandSumArrey(arr):\n",
    "    left = [0]\n",
    "    right = [0]\n",
    "    x = 0\n",
    "    y = 0\n",
    "    rev_arr = arr[::-1]\n",
    "    #print(rev_arr)\n",
    "    #sum on the left side\n",
    "    for i in range(1, len(arr)):\n",
    "        x += arr[i-1]\n",
    "        left.append(x)\n",
    "    #print(left)\n",
    "    #sum in right side\n",
    "    for i in range(1, len(rev_arr)):\n",
    "        y += rev_arr[i-1]\n",
    "        right.append(y)\n",
    "        right = right[::-1]\n",
    "    #print(right)\n",
    "    #check when left and right is equal\n",
    "    for i in range(1, len(arr)):\n",
    "        #print(left[i])\n",
    "        #print(right[i])\n",
    "        if left[i] == right[i]:\n",
    "            #print(left[i])\n",
    "            return(i)\n",
    "\n",
    "\n",
    "arr=[1,2,3,3]\n",
    "balandSumArrey(arr)\n"
   ]
  },
  {
   "cell_type": "code",
   "execution_count": null,
   "metadata": {},
   "outputs": [],
   "source": []
  }
 ],
 "metadata": {
  "kernelspec": {
   "display_name": "Python 3",
   "language": "python",
   "name": "python3"
  },
  "language_info": {
   "codemirror_mode": {
    "name": "ipython",
    "version": 3
   },
   "file_extension": ".py",
   "mimetype": "text/x-python",
   "name": "python",
   "nbconvert_exporter": "python",
   "pygments_lexer": "ipython3",
   "version": "3.7.3"
  }
 },
 "nbformat": 4,
 "nbformat_minor": 2
}
