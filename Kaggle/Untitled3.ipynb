{
 "cells": [
  {
   "cell_type": "code",
   "execution_count": null,
   "metadata": {},
   "outputs": [],
   "source": [
    "d = data['features']\n",
    "\n",
    "dd = {'geometry':[Polygon ([(14.60856301833, 3163.789571143807),(14.60863380838, 59.12387537796),\n",
    "                            (14.60856239474, 59.12383923344), (14.60860698646, 59.12380051525),\n",
    "                            (14.6085952518, 59.12379447253), (14.60855019891, 59.12383324678),\n",
    "                            (14.60848057366, 59.12389363203), (14.60849299258, 59.12389966061),\n",
    "                            (14.60853796254, 59.12395851428), (14.60856135392, 59.12393819535),\n",
    "                            (14.60856301833, 59.12393608068)])]}\n",
    "                 \n",
    "\n",
    "#4326\n",
    "gdf = gpd.GeoDataFrame(dd, crs=\"EPSG:3395\")\n",
    "boudary = gdf.bounds\n",
    "area_polygon = gdf.area\n",
    "centroids = gdf.centroid\n",
    "print(boudary)\n",
    "print(area_polygon)\n",
    "print(\"centroid: \",centroids)"
   ]
  },
  {
   "cell_type": "code",
   "execution_count": null,
   "metadata": {},
   "outputs": [],
   "source": [
    "#measure the distance between\n",
    "\n",
    "def measure(lat1, lon1, lat2, lon2):\n",
    "    #generally used geo measurement function\n",
    "    R = 6378.137 # Radius of earth in KM\n",
    "    dLat = lat2 * math.pi / 180 - lat1 * math.pi / 180\n",
    "    dLon = lon2 * math.pi / 180 - lon1 * math.pi / 180\n",
    "    a = math.sin(dLat/2) * math.sin(dLat/2) + math.cos(lat1 * math.pi / 180) * math.cos(lat2 * math.pi / 180) * math.sin(dLon/2) * math.sin(dLon/2)\n",
    "    c = 2 * math.atan2(math.sqrt(a), math.sqrt(1-a))\n",
    "    d = R * c\n",
    "    return d * 1000; # meters\n",
    "\n",
    "measure(14.608481,59.123794,14.608634,59.123959)"
   ]
  },
  {
   "cell_type": "code",
   "execution_count": 1,
   "metadata": {},
   "outputs": [
    {
     "ename": "NameError",
     "evalue": "name 'gpd' is not defined",
     "output_type": "error",
     "traceback": [
      "\u001b[0;31m---------------------------------------------------------------------------\u001b[0m",
      "\u001b[0;31mNameError\u001b[0m                                 Traceback (most recent call last)",
      "\u001b[0;32m<ipython-input-1-1593a1652f7a>\u001b[0m in \u001b[0;36m<module>\u001b[0;34m\u001b[0m\n\u001b[1;32m      4\u001b[0m \u001b[0mfilename\u001b[0m \u001b[0;34m=\u001b[0m \u001b[0;34m\"outline.geojson\"\u001b[0m\u001b[0;34m\u001b[0m\u001b[0;34m\u001b[0m\u001b[0m\n\u001b[1;32m      5\u001b[0m \u001b[0mfile\u001b[0m \u001b[0;34m=\u001b[0m \u001b[0mopen\u001b[0m\u001b[0;34m(\u001b[0m\u001b[0mfilename\u001b[0m\u001b[0;34m)\u001b[0m\u001b[0;34m\u001b[0m\u001b[0;34m\u001b[0m\u001b[0m\n\u001b[0;32m----> 6\u001b[0;31m \u001b[0mpolygon\u001b[0m \u001b[0;34m=\u001b[0m \u001b[0mgpd\u001b[0m\u001b[0;34m.\u001b[0m\u001b[0mread_file\u001b[0m\u001b[0;34m(\u001b[0m\u001b[0mfile\u001b[0m\u001b[0;34m)\u001b[0m\u001b[0;34m\u001b[0m\u001b[0;34m\u001b[0m\u001b[0m\n\u001b[0m\u001b[1;32m      7\u001b[0m \u001b[0;31m#print(polygon['geometry'].head())\u001b[0m\u001b[0;34m\u001b[0m\u001b[0;34m\u001b[0m\u001b[0;34m\u001b[0m\u001b[0m\n\u001b[1;32m      8\u001b[0m \u001b[0;31m#polygon.plot(figsize=(10, 8))\u001b[0m\u001b[0;34m\u001b[0m\u001b[0;34m\u001b[0m\u001b[0;34m\u001b[0m\u001b[0m\n",
      "\u001b[0;31mNameError\u001b[0m: name 'gpd' is not defined"
     ]
    }
   ],
   "source": [
    "#Open geojson file\n",
    "#import folium\n",
    "import matplotlib.pyplot as plt\n",
    "filename = \"outline.geojson\"\n",
    "file = open(filename)\n",
    "polygon = gpd.read_file(file)\n",
    "#print(polygon['geometry'].head())\n",
    "#polygon.plot(figsize=(10, 8))\n",
    "#plt.show()\n",
    "#poly_area = polygon['geometry'].area\n",
    "polygon.crs\n",
    "\n",
    "# Use WGS 84 (epsg:4326) as the geographic coordinate system\n",
    "polygon = polygon.to_crs(epsg=4326)\n",
    "print(polygon.crs)\n",
    "polygon.head()\n",
    "polygon.plot(figsize=(6, 6))\n",
    "plt.show()"
   ]
  },
  {
   "cell_type": "code",
   "execution_count": null,
   "metadata": {},
   "outputs": [],
   "source": [
    "#Open geojson file\n",
    "#import folium\n",
    "import matplotlib.pyplot as plt\n",
    "filename = \"outline.geojson\"\n",
    "file = open(filename)\n",
    "polygon = gpd.read_file(file)\n",
    "#print(polygon['geometry'].head())\n",
    "#polygon.plot(figsize=(10, 8))\n",
    "#plt.show()\n",
    "#poly_area = polygon['geometry'].area\n",
    "polygon.crs\n",
    "\n",
    "# Use WGS 84 (epsg:4326) as the geographic coordinate system\n",
    "polygon = polygon.to_crs(epsg=4326)\n",
    "print(polygon.crs)\n",
    "polygon.head()\n",
    "polygon.plot(figsize=(6, 6))\n",
    "plt.show()"
   ]
  }
 ],
 "metadata": {
  "kernelspec": {
   "display_name": "Python 3",
   "language": "python",
   "name": "python3"
  },
  "language_info": {
   "codemirror_mode": {
    "name": "ipython",
    "version": 3
   },
   "file_extension": ".py",
   "mimetype": "text/x-python",
   "name": "python",
   "nbconvert_exporter": "python",
   "pygments_lexer": "ipython3",
   "version": "3.7.3"
  }
 },
 "nbformat": 4,
 "nbformat_minor": 2
}
