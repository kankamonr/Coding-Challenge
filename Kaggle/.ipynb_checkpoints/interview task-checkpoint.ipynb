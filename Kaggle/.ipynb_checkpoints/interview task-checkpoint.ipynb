{
 "cells": [
  {
   "cell_type": "markdown",
   "metadata": {},
   "source": [
    "<h3>Step of Implementation</h3>\n",
    "1. read file csv <br>\n",
    "2. convert lat lon to cartesian coordinate(use to cal area with radius in meters) <br>\n",
    "3. cal area of polygon, also area of point <br>\n",
    "4. cal the percentage of intersection <br>\n",
    "    &emsp;- if percentage of intersection >= 50% then that device in the polygon return IN <br>\n",
    "    &emsp;- if percentage of intersection  < 50% then the device not in the polygon return OUT <br>\n",
    "5. cal time in the polygon \n",
    "\n",
    "    "
   ]
  },
  {
   "cell_type": "markdown",
   "metadata": {},
   "source": [
    "<h3>Import library</h3>"
   ]
  },
  {
   "cell_type": "code",
   "execution_count": 69,
   "metadata": {},
   "outputs": [
    {
     "name": "stdout",
     "output_type": "stream",
     "text": [
      "Setup Complete\n"
     ]
    }
   ],
   "source": [
    "import pandas as pd\n",
    "import os \n",
    "import geopandas as gpd\n",
    "import numpy as np\n",
    "import math\n",
    "#import geoplot\n",
    "#import geoplot.crs as gcrs\n",
    "\n",
    "pd.plotting.register_matplotlib_converters()\n",
    "#import matplotlib.pyplot as plt\n",
    "#%matplotlib inline\n",
    "#import seaborn as sns\n",
    "print(\"Setup Complete\")"
   ]
  },
  {
   "cell_type": "markdown",
   "metadata": {},
   "source": [
    "<h3>Function</h3>"
   ]
  },
  {
   "cell_type": "code",
   "execution_count": 68,
   "metadata": {},
   "outputs": [],
   "source": [
    "# Converting lat/long to cartesian\n",
    "\n",
    "def get_cartesian(lat=None,lon=None):\n",
    "    lat, lon = np.deg2rad(lat), np.deg2rad(lon)\n",
    "    R = 6371000 # radius of the earth in meters\n",
    "    x = R * np.cos(lat) * np.cos(lon)\n",
    "    y = R * np.cos(lat) * np.sin(lon)\n",
    "    #z = R *np.sin(lat)\n",
    "    return x,y\n",
    "\n",
    "#print(get_cartesian(59.123818,14.608603))\n",
    "#print(get_cartesian(59.123814,14.608602))"
   ]
  },
  {
   "cell_type": "markdown",
   "metadata": {},
   "source": [
    "<h3>Open the file</h3>"
   ]
  },
  {
   "cell_type": "code",
   "execution_count": 70,
   "metadata": {},
   "outputs": [
    {
     "data": {
      "text/html": [
       "<div>\n",
       "<style scoped>\n",
       "    .dataframe tbody tr th:only-of-type {\n",
       "        vertical-align: middle;\n",
       "    }\n",
       "\n",
       "    .dataframe tbody tr th {\n",
       "        vertical-align: top;\n",
       "    }\n",
       "\n",
       "    .dataframe thead th {\n",
       "        text-align: right;\n",
       "    }\n",
       "</style>\n",
       "<table border=\"1\" class=\"dataframe\">\n",
       "  <thead>\n",
       "    <tr style=\"text-align: right;\">\n",
       "      <th></th>\n",
       "      <th>latitude</th>\n",
       "      <th>longitude</th>\n",
       "      <th>timestamp</th>\n",
       "      <th>uncertainty</th>\n",
       "      <th>convert_time</th>\n",
       "    </tr>\n",
       "    <tr>\n",
       "      <th>hash_id</th>\n",
       "      <th></th>\n",
       "      <th></th>\n",
       "      <th></th>\n",
       "      <th></th>\n",
       "      <th></th>\n",
       "    </tr>\n",
       "  </thead>\n",
       "  <tbody>\n",
       "    <tr>\n",
       "      <th>1</th>\n",
       "      <td>59.123818</td>\n",
       "      <td>14.608603</td>\n",
       "      <td>1610723283</td>\n",
       "      <td>9.568983</td>\n",
       "      <td>2021-01-15 16:08:03</td>\n",
       "    </tr>\n",
       "    <tr>\n",
       "      <th>1</th>\n",
       "      <td>59.123818</td>\n",
       "      <td>14.608603</td>\n",
       "      <td>1610723284</td>\n",
       "      <td>9.568983</td>\n",
       "      <td>2021-01-15 16:08:04</td>\n",
       "    </tr>\n",
       "    <tr>\n",
       "      <th>1</th>\n",
       "      <td>59.123818</td>\n",
       "      <td>14.608603</td>\n",
       "      <td>1610723285</td>\n",
       "      <td>9.568983</td>\n",
       "      <td>2021-01-15 16:08:05</td>\n",
       "    </tr>\n",
       "    <tr>\n",
       "      <th>1</th>\n",
       "      <td>59.123814</td>\n",
       "      <td>14.608602</td>\n",
       "      <td>1610723286</td>\n",
       "      <td>12.046636</td>\n",
       "      <td>2021-01-15 16:08:06</td>\n",
       "    </tr>\n",
       "    <tr>\n",
       "      <th>1</th>\n",
       "      <td>59.123814</td>\n",
       "      <td>14.608602</td>\n",
       "      <td>1610723287</td>\n",
       "      <td>12.046636</td>\n",
       "      <td>2021-01-15 16:08:07</td>\n",
       "    </tr>\n",
       "  </tbody>\n",
       "</table>\n",
       "</div>"
      ],
      "text/plain": [
       "          latitude  longitude   timestamp  uncertainty         convert_time\n",
       "hash_id                                                                    \n",
       "1        59.123818  14.608603  1610723283     9.568983  2021-01-15 16:08:03\n",
       "1        59.123818  14.608603  1610723284     9.568983  2021-01-15 16:08:04\n",
       "1        59.123818  14.608603  1610723285     9.568983  2021-01-15 16:08:05\n",
       "1        59.123814  14.608602  1610723286    12.046636  2021-01-15 16:08:06\n",
       "1        59.123814  14.608602  1610723287    12.046636  2021-01-15 16:08:07"
      ]
     },
     "execution_count": 70,
     "metadata": {},
     "output_type": "execute_result"
    }
   ],
   "source": [
    "# Path of the file to read\n",
    "#device_filepath = \"~/Documents/Kaggle/input/Interview_Task/dummy.csv\"\n",
    "\n",
    "# Read the file into a variable device data\n",
    "device_data = pd.read_csv(\"dummy2.csv\", index_col=\"hash_id\", parse_dates=True)\n",
    "#device_data[\"convert_timestamp\"] = \"\"\n",
    "#device_data.to_csv(\"dummy.csv\", index=True)\n",
    "\n",
    "device_data.head()\n",
    "#print(device_data[\"latitude\"])"
   ]
  },
  {
   "cell_type": "code",
   "execution_count": 71,
   "metadata": {},
   "outputs": [
    {
     "name": "stdout",
     "output_type": "stream",
     "text": [
      "epsg:4326\n"
     ]
    },
    {
     "data": {
      "image/png": "[encoded data removed]",
      "text/plain": [
       "<Figure size 432x432 with 1 Axes>"
      ]
     },
     "metadata": {
      "needs_background": "light"
     },
     "output_type": "display_data"
    }
   ],
   "source": [
    "#Open geojson file\n",
    "#import folium\n",
    "import matplotlib.pyplot as plt\n",
    "filename = \"outline.geojson\"\n",
    "file = open(filename)\n",
    "polygon = gpd.read_file(file)\n",
    "#print(polygon['geometry'].head())\n",
    "#polygon.plot(figsize=(10, 8))\n",
    "#plt.show()\n",
    "#poly_area = polygon['geometry'].area\n",
    "polygon.crs\n",
    "\n",
    "# Use WGS 84 (epsg:4326) as the geographic coordinate system\n",
    "polygon = polygon.to_crs(epsg=4326)\n",
    "print(polygon.crs)\n",
    "polygon.head()\n",
    "polygon.plot(figsize=(6, 6))\n",
    "plt.show()\n"
   ]
  },
  {
   "cell_type": "code",
   "execution_count": 72,
   "metadata": {},
   "outputs": [
    {
     "name": "stdout",
     "output_type": "stream",
     "text": [
      "[(3163789.5711438064, 824610.3947169766), (3163794.1582723744, 824615.7647834257), (3163798.5240533445, 824612.6914310817), (3163801.457937561, 824616.0856905484), (3163802.184876171, 824615.5831678702), (3163799.252451656, 824612.1620940318), (3163794.677873716, 824606.8639903518), (3163793.9423939195, 824607.4046367065), (3163795.7127884272, 824609.4724860844), (3163795.581184348, 824609.5222086139), (3163793.8149246597, 824607.4702690038), (3163791.5851233066, 824609.0069952862), (3163789.8880517646, 824607.0405475942), (3163787.8599847886, 824608.4711883751), (3163789.399806384, 824610.2519097895), (3163789.5711438064, 824610.3947169766)]\n"
     ]
    }
   ],
   "source": [
    "import json\n",
    "from collections import namedtuple\n",
    "from shapely.geometry import Polygon, LinearRing\n",
    "\n",
    "coordinate = []\n",
    "\n",
    "\n",
    "with open('outline.geojson') as f:\n",
    "    data = json.load(f)\n",
    "\n",
    "#extract nested list of coordinates\n",
    "for feature in data['features']:\n",
    "    for list in feature['geometry']['coordinates']:\n",
    "        for point in list:\n",
    "        \n",
    "            point= tuple(point)\n",
    "            #convert lat lon to catesian\n",
    "            point = get_cartesian(point[1],point[0])\n",
    "            coordinate.append(point)\n",
    "            \n",
    "        print(coordinate)   \n"
   ]
  },
  {
   "cell_type": "markdown",
   "metadata": {},
   "source": [
    "<h3>Convert timestamp to date time and lat,lon<\\h3>"
   ]
  },
  {
   "cell_type": "code",
   "execution_count": 73,
   "metadata": {},
   "outputs": [],
   "source": [
    "#Convert timestamp to date time\n",
    "from csv import reader\n",
    "from datetime import datetime\n",
    "\n",
    "convert_timestamp = []\n",
    "convert_latlon = []\n",
    "\n",
    "# open file in read mode\n",
    "with open('dummy.csv', 'r') as read_obj:\n",
    "    # pass the file object to reader() to get the reader object\n",
    "    csv_reader = reader(read_obj)\n",
    "    header = next(csv_reader)\n",
    "    convert_timestamp.append(\"convert_time\")\n",
    "    convert_latlon.append(\"convert_point\")\n",
    "    \n",
    "    if header != None:\n",
    "    # Iterate over each row in the csv using reader object\n",
    "        for row in csv_reader:\n",
    "        # row variable is a list that represents a row in csv\n",
    "            timestamp = datetime.fromtimestamp((int (row[3])))\n",
    "            convert_timestamp.append(timestamp)\n",
    "            convert_point = get_cartesian((float(row[1])),(float(row[2])))\n",
    "            convert_latlon.append(convert_point)\n",
    "             \n",
    "    \n",
    "#add conver timestamp to new file\n",
    "with open('dummy.csv', 'r') as ifile :\n",
    "    with open('dummy2.csv', 'w') as ofile:\n",
    "        for line, new in zip(ifile, convert_timestamp):\n",
    "            new_line = line.rstrip('\\n') + ',' + str(new) + '\\n'\n",
    "            ofile.write(new_line)\n",
    "            \n"
   ]
  },
  {
   "cell_type": "code",
   "execution_count": 74,
   "metadata": {},
   "outputs": [
    {
     "name": "stdout",
     "output_type": "stream",
     "text": [
      "S:  POLYGON ((3163789.571143806 824610.3947169766, 3163794.158272374 824615.7647834257, 3163798.524053345 824612.6914310817, 3163801.457937561 824616.0856905484, 3163802.184876171 824615.5831678702, 3163799.252451656 824612.1620940318, 3163794.677873716 824606.8639903518, 3163793.942393919 824607.4046367065, 3163795.712788427 824609.4724860844, 3163795.581184348 824609.5222086139, 3163793.81492466 824607.4702690038, 3163791.585123307 824609.0069952862, 3163789.888051765 824607.0405475942, 3163787.859984789 824608.4711883751, 3163789.399806384 824610.2519097895, 3163789.571143806 824610.3947169766))\n",
      "Area:  53.5447529565249\n"
     ]
    }
   ],
   "source": [
    "\n",
    "r = LinearRing(coordinate)\n",
    "#print(r)\n",
    "s = Polygon(r)\n",
    "print(\"S: \",s)\n",
    "print(\"Area: \", s.area)\n",
    " "
   ]
  },
  {
   "cell_type": "code",
   "execution_count": 77,
   "metadata": {},
   "outputs": [],
   "source": [
    "from matplotlib.patches import Circle, Wedge, Polygon\n",
    "from matplotlib.collections import PatchCollection\n",
    "import matplotlib.pyplot as plt\n",
    "resolution = 50  # the number of vertices\n",
    "N = 3\n",
    "x = np.random.rand(N)\n",
    "y = np.random.rand(N)\n",
    "radii = 0.1*np.random.rand(N)\n",
    "patches = []\n",
    "for x1, y1, r in zip(x, y, radii):\n",
    "    circle = Circle((x1, y1), r)\n",
    "    patches.append(circle)\n",
    "\n",
    "colors = 100 * np.random.rand(len(patches))\n",
    "p = PatchCollection(patches, alpha=0.4)\n",
    "p.set_array(colors)\n",
    "ax.add_collection(p)\n",
    "fig.colorbar(p, ax=ax)\n",
    "\n",
    "plt.show()\n",
    "plt.show()"
   ]
  },
  {
   "cell_type": "code",
   "execution_count": null,
   "metadata": {},
   "outputs": [],
   "source": []
  }
 ],
 "metadata": {
  "kernelspec": {
   "display_name": "Python 3",
   "language": "python",
   "name": "python3"
  },
  "language_info": {
   "codemirror_mode": {
    "name": "ipython",
    "version": 3
   },
   "file_extension": ".py",
   "mimetype": "text/x-python",
   "name": "python",
   "nbconvert_exporter": "python",
   "pygments_lexer": "ipython3",
   "version": "3.7.3"
  }
 },
 "nbformat": 4,
 "nbformat_minor": 2
}
