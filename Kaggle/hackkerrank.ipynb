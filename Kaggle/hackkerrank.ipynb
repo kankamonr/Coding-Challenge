{
 "cells": [
  {
   "cell_type": "code",
   "execution_count": 3,
   "metadata": {},
   "outputs": [
    {
     "data": {
      "text/plain": [
       "3"
      ]
     },
     "execution_count": 3,
     "metadata": {},
     "output_type": "execute_result"
    }
   ],
   "source": [
    "import math\n",
    "import os\n",
    "import random\n",
    "import re\n",
    "import sys\n",
    "\n",
    "#\n",
    "# Complete the 'sockMerchant' function below.\n",
    "#\n",
    "# The function is expected to return an INTEGER.\n",
    "# The function accepts following parameters:\n",
    "#  1. INTEGER n\n",
    "#  2. INTEGER_ARRAY ar\n",
    "#\n",
    "\n",
    "def sockMerchant(n, ar):\n",
    "    count = []\n",
    "    for i in set(ar):\n",
    "        #print(i)\n",
    "        pair = ar.count(i)//2\n",
    "        count.append((ar.count(i)//2))\n",
    "        #print(\"pair: \", count)\n",
    "        \n",
    "    \n",
    "    return sum(count)\n",
    "            \n",
    "\n",
    "n =9\n",
    "test = [10,20,20,10,10,30,50,10,20]\n",
    "sockMerchant(n, test)"
   ]
  },
  {
   "cell_type": "code",
   "execution_count": 54,
   "metadata": {},
   "outputs": [
    {
     "data": {
      "text/plain": [
       "4"
      ]
     },
     "execution_count": 54,
     "metadata": {},
     "output_type": "execute_result"
    }
   ],
   "source": [
    "import math\n",
    "import os\n",
    "import random\n",
    "import re\n",
    "import sys\n",
    "\n",
    "\n",
    "#\n",
    "# Complete the 'jumpingOnClouds' function below.\n",
    "#\n",
    "# The function is expected to return an INTEGER.\n",
    "# The function accepts INTEGER_ARRAY c as parameter.\n",
    "#\n",
    "\n",
    "def jumpingOnClouds(c):\n",
    "    # Write your code here\n",
    "    \n",
    "    count = 0\n",
    "    i = 0\n",
    "    while i < len(c):\n",
    "        if i+2 < len(c) and c[i+2] == 0:\n",
    "            count+=1\n",
    "            i+=2\n",
    "        elif i+1<len(c) and c[i+1] == 0:\n",
    "            count += 1\n",
    "            i += 1\n",
    "        else:\n",
    "            i += 1\n",
    "              \n",
    "    return count   \n",
    "\n",
    "c = [0,0,1,0,0,1,0]\n",
    "jumpingOnClouds(c)\n"
   ]
  },
  {
   "cell_type": "code",
   "execution_count": 73,
   "metadata": {},
   "outputs": [
    {
     "name": "stdout",
     "output_type": "stream",
     "text": [
      "xdsd\n"
     ]
    },
    {
     "data": {
      "text/plain": [
       "0"
      ]
     },
     "execution_count": 73,
     "metadata": {},
     "output_type": "execute_result"
    }
   ],
   "source": [
    "def repeatedString(s, n):\n",
    "    # Write your code here\n",
    "    if len(s) == 1 and s == 'a': \n",
    "        return n\n",
    "    if len(s) == 0:\n",
    "        return 0\n",
    "    # repeat string to curtain length\n",
    "    s = (s * (n//len(s) +1))[:n]\n",
    "    print(s)\n",
    "    return s.count('a')\n",
    "s = 'xdsdaskds'\n",
    "n = 4\n",
    "repeatedString(s,n)"
   ]
  },
  {
   "cell_type": "code",
   "execution_count": 74,
   "metadata": {},
   "outputs": [
    {
     "data": {
      "text/plain": [
       "'ab'"
      ]
     },
     "execution_count": 74,
     "metadata": {},
     "output_type": "execute_result"
    }
   ],
   "source": [
    "def repeat_to_length(s, wanted):\n",
    "    return (s * (wanted//len(s) + 1))[:wanted]\n",
    "\n",
    "repeat_to_length('abc', 2)\n"
   ]
  },
  {
   "cell_type": "code",
   "execution_count": 80,
   "metadata": {},
   "outputs": [
    {
     "data": {
      "text/plain": [
       "0"
      ]
     },
     "execution_count": 80,
     "metadata": {},
     "output_type": "execute_result"
    }
   ],
   "source": [
    "def repeatedString(s, n):\n",
    "    x,y = divmod(n,len(s))\n",
    "    s = s[:y].count(\"a\")*(x+1) + s[y:].count(\"a\")*x\n",
    "    return s\n",
    "s = 'xdsdaskds'\n",
    "n = 4\n",
    "repeatedString(s,n)"
   ]
  },
  {
   "cell_type": "code",
   "execution_count": 87,
   "metadata": {},
   "outputs": [
    {
     "name": "stdout",
     "output_type": "stream",
     "text": [
      "[1, 2, 3]\n"
     ]
    }
   ],
   "source": [
    "a = 3\n",
    "\n",
    "arr = list(range(1,a+1))\n",
    "print(arr)"
   ]
  },
  {
   "cell_type": "code",
   "execution_count": 100,
   "metadata": {},
   "outputs": [
    {
     "data": {
      "text/plain": [
       "[5, 1, 2, 3, 4]"
      ]
     },
     "execution_count": 100,
     "metadata": {},
     "output_type": "execute_result"
    }
   ],
   "source": [
    "def rotLeft(a, d):\n",
    "    #b = []\n",
    "    \n",
    "    return (a[d: len(a)] + a[0: d])\n",
    "rotLeft([1,2,3,4,5],4)"
   ]
  },
  {
   "cell_type": "code",
   "execution_count": 103,
   "metadata": {},
   "outputs": [
    {
     "data": {
      "text/plain": [
       "'Too chaotic'"
      ]
     },
     "execution_count": 103,
     "metadata": {},
     "output_type": "execute_result"
    }
   ],
   "source": [
    "import math\n",
    "import os\n",
    "import random\n",
    "import re\n",
    "import sys\n",
    "\n",
    "#\n",
    "# Complete the 'minimumBribes' function below.\n",
    "#\n",
    "# The function accepts INTEGER_ARRAY q as parameter.\n",
    "#\n",
    "\n",
    "def minimumBribes(q):\n",
    "    # Write your code here\n",
    "    count = 0\n",
    "    swap = False\n",
    "    lastIndex = len(q)-1\n",
    "    for i, number in enumerate(q):\n",
    "        if (number - i) >= 3:\n",
    "            return 'Too chaotic'\n",
    "        \n",
    "    # number of moves\n",
    "    for i in range(len(q)):\n",
    "        for j in range(lastIndex):\n",
    "            if q[j] > q[j+1]:\n",
    "                q[j], q[j+1] = q[j+1], q[j]\n",
    "                count += 1\n",
    "                swap = True\n",
    "        if swap:\n",
    "            swap = False\n",
    "            lastIndex -= 1\n",
    "        else:\n",
    "            return count\n",
    "    return count\n",
    "\n",
    "q = [2,1,5,3,4]\n",
    "minimumBribes(q)"
   ]
  },
  {
   "cell_type": "code",
   "execution_count": 16,
   "metadata": {},
   "outputs": [
    {
     "name": "stdout",
     "output_type": "stream",
     "text": [
      "[0, 2, 3, 1, 0]\n",
      "Swap:  1\n",
      "Arr:  [1, 3, 4, 2]\n",
      "Temp:  [0, 2, 3, 1, 2]\n",
      "Swap:  2\n",
      "Arr:  [1, 2, 4, 3]\n",
      "Temp:  [0, 2, 3, 3, 2]\n",
      "Swap:  3\n",
      "Arr:  [1, 2, 3, 4]\n",
      "Temp:  [0, 2, 3, 3, 3]\n"
     ]
    },
    {
     "data": {
      "text/plain": [
       "3"
      ]
     },
     "execution_count": 16,
     "metadata": {},
     "output_type": "execute_result"
    }
   ],
   "source": [
    "arr = [4,3,1,2]\n",
    "\n",
    "import math\n",
    "import os\n",
    "import random\n",
    "import re\n",
    "import sys\n",
    "\n",
    "# Complete the minimumSwaps function below.\n",
    "def minimumSwaps(arr):\n",
    "    temp = [0] * (len(arr) + 1)\n",
    "    for pos, val in enumerate(arr):\n",
    "        temp[val] = pos\n",
    "        pos += 1\n",
    "        #print(pos)\n",
    "    print(temp)\n",
    "    swaps = 0\n",
    "    for i in range(len(arr)):\n",
    "        if arr[i] != i+1:\n",
    "            swaps += 1\n",
    "            print(\"Swap: \", swaps)\n",
    "            t = arr[i]\n",
    "            arr[i] = i+1\n",
    "            arr[temp[i+1]] = t\n",
    "            print(\"Arr: \", arr)\n",
    "            temp[t] = temp[i+1]\n",
    "            print(\"Temp: \", temp)\n",
    "    return swaps\n",
    "#print(temp)\n",
    "#print(len(arr))\n",
    "minimumSwaps(arr)"
   ]
  },
  {
   "cell_type": "code",
   "execution_count": 18,
   "metadata": {},
   "outputs": [
    {
     "name": "stdout",
     "output_type": "stream",
     "text": [
      "[0, 0, 0]\n"
     ]
    }
   ],
   "source": [
    "def arrayManipulation(n,queries):\n",
    "    arr = [0] * (n +1)\n",
    "    for query in queries:\n",
    "        a = query[0] - 1\n",
    "        b = \n",
    "    \n",
    "\n",
    "    \n",
    "    \n",
    "arrayManipulation(3)\n"
   ]
  },
  {
   "cell_type": "code",
   "execution_count": null,
   "metadata": {},
   "outputs": [],
   "source": [
    "def arrayManipulation(n, queries):\n",
    "    array = [0] * (n + 1)\n",
    "    \n",
    "    for query in queries: \n",
    "        a = query[0] - 1\n",
    "        b = query[1]\n",
    "        k = query[2]\n",
    "        array[a] += k\n",
    "        array[b] -= k\n",
    "        \n",
    "    max_value = 0\n",
    "    running_count = 0\n",
    "    for i in array:\n",
    "        running_count += i\n",
    "        if running_count > max_value:\n",
    "            max_value = running_count\n",
    "            \n",
    "    return max_value"
   ]
  }
 ],
 "metadata": {
  "kernelspec": {
   "display_name": "Python 3",
   "language": "python",
   "name": "python3"
  },
  "language_info": {
   "codemirror_mode": {
    "name": "ipython",
    "version": 3
   },
   "file_extension": ".py",
   "mimetype": "text/x-python",
   "name": "python",
   "nbconvert_exporter": "python",
   "pygments_lexer": "ipython3",
   "version": "3.7.3"
  }
 },
 "nbformat": 4,
 "nbformat_minor": 2
}
